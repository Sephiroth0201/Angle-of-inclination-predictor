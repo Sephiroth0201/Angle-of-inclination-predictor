{
  "nbformat": 4,
  "nbformat_minor": 0,
  "metadata": {
    "colab": {
      "provenance": []
    },
    "kernelspec": {
      "name": "python3",
      "display_name": "Python 3"
    },
    "language_info": {
      "name": "python"
    }
  },
  "cells": [
    {
      "cell_type": "code",
      "execution_count": 55,
      "metadata": {
        "colab": {
          "base_uri": "https://localhost:8080/"
        },
        "id": "CVQ0dsJNDHNG",
        "outputId": "f16cd04b-1291-49bc-d126-8186b90bf9ab"
      },
      "outputs": [
        {
          "output_type": "stream",
          "name": "stderr",
          "text": [
            "Ultralytics YOLOv8.0.201 🚀 Python-3.10.12 torch-2.1.0+cu118 CPU (Intel Xeon 2.20GHz)\n",
            "Setup complete ✅ (2 CPUs, 12.7 GB RAM, 27.1/107.7 GB disk)\n"
          ]
        }
      ],
      "source": [
        "%pip install ultralytics\n",
        "import ultralytics\n",
        "ultralytics.checks()"
      ]
    },
    {
      "cell_type": "code",
      "source": [
        "import numpy as np\n"
      ],
      "metadata": {
        "id": "2oienXi8d1tn"
      },
      "execution_count": 56,
      "outputs": []
    },
    {
      "cell_type": "code",
      "source": [
        "from ultralytics import YOLO"
      ],
      "metadata": {
        "id": "AsnZoQcKFuOV"
      },
      "execution_count": 57,
      "outputs": []
    },
    {
      "cell_type": "code",
      "source": [
        "from PIL import Image"
      ],
      "metadata": {
        "id": "c1RJSOZIICrz"
      },
      "execution_count": 58,
      "outputs": []
    },
    {
      "cell_type": "code",
      "source": [
        "model = YOLO('yolov8n.pt')\n",
        "#introducing the yolov8 model"
      ],
      "metadata": {
        "id": "WOBGSVzHGCi2"
      },
      "execution_count": 59,
      "outputs": []
    },
    {
      "cell_type": "code",
      "source": [
        "source = '/content/Screenshot (139).png'\n",
        "\n",
        "#obtaining predictions\n",
        "results = model(source)"
      ],
      "metadata": {
        "colab": {
          "base_uri": "https://localhost:8080/"
        },
        "id": "n2RE6mh9GGuF",
        "outputId": "c684a0c1-52b8-4430-8fac-7af5f0cf0e48"
      },
      "execution_count": 60,
      "outputs": [
        {
          "output_type": "stream",
          "name": "stderr",
          "text": [
            "\n",
            "image 1/1 /content/Screenshot (139).png: 640x608 1 person, 1 skateboard, 3 books, 425.3ms\n",
            "Speed: 15.7ms preprocess, 425.3ms inference, 1.4ms postprocess per image at shape (1, 3, 640, 608)\n"
          ]
        }
      ]
    },
    {
      "cell_type": "code",
      "source": [
        "results\n",
        "#checking format of results"
      ],
      "metadata": {
        "colab": {
          "base_uri": "https://localhost:8080/"
        },
        "id": "TKyh2cQagiL7",
        "outputId": "f8370841-5c09-436b-9792-7e4f2550b09e"
      },
      "execution_count": 61,
      "outputs": [
        {
          "output_type": "execute_result",
          "data": {
            "text/plain": [
              "[ultralytics.engine.results.Results object with attributes:\n",
              " \n",
              " boxes: ultralytics.engine.results.Boxes object\n",
              " keypoints: None\n",
              " masks: None\n",
              " names: {0: 'person', 1: 'bicycle', 2: 'car', 3: 'motorcycle', 4: 'airplane', 5: 'bus', 6: 'train', 7: 'truck', 8: 'boat', 9: 'traffic light', 10: 'fire hydrant', 11: 'stop sign', 12: 'parking meter', 13: 'bench', 14: 'bird', 15: 'cat', 16: 'dog', 17: 'horse', 18: 'sheep', 19: 'cow', 20: 'elephant', 21: 'bear', 22: 'zebra', 23: 'giraffe', 24: 'backpack', 25: 'umbrella', 26: 'handbag', 27: 'tie', 28: 'suitcase', 29: 'frisbee', 30: 'skis', 31: 'snowboard', 32: 'sports ball', 33: 'kite', 34: 'baseball bat', 35: 'baseball glove', 36: 'skateboard', 37: 'surfboard', 38: 'tennis racket', 39: 'bottle', 40: 'wine glass', 41: 'cup', 42: 'fork', 43: 'knife', 44: 'spoon', 45: 'bowl', 46: 'banana', 47: 'apple', 48: 'sandwich', 49: 'orange', 50: 'broccoli', 51: 'carrot', 52: 'hot dog', 53: 'pizza', 54: 'donut', 55: 'cake', 56: 'chair', 57: 'couch', 58: 'potted plant', 59: 'bed', 60: 'dining table', 61: 'toilet', 62: 'tv', 63: 'laptop', 64: 'mouse', 65: 'remote', 66: 'keyboard', 67: 'cell phone', 68: 'microwave', 69: 'oven', 70: 'toaster', 71: 'sink', 72: 'refrigerator', 73: 'book', 74: 'clock', 75: 'vase', 76: 'scissors', 77: 'teddy bear', 78: 'hair drier', 79: 'toothbrush'}\n",
              " orig_img: array([[[215, 208, 168],\n",
              "         [215, 208, 168],\n",
              "         [215, 208, 168],\n",
              "         ...,\n",
              "         [211, 205, 163],\n",
              "         [211, 205, 163],\n",
              "         [211, 205, 163]],\n",
              " \n",
              "        [[214, 207, 167],\n",
              "         [215, 208, 168],\n",
              "         [215, 208, 168],\n",
              "         ...,\n",
              "         [211, 205, 163],\n",
              "         [211, 205, 163],\n",
              "         [211, 205, 163]],\n",
              " \n",
              "        [[214, 207, 167],\n",
              "         [215, 208, 168],\n",
              "         [215, 208, 168],\n",
              "         ...,\n",
              "         [211, 205, 163],\n",
              "         [211, 205, 163],\n",
              "         [211, 205, 163]],\n",
              " \n",
              "        ...,\n",
              " \n",
              "        [[152, 195, 217],\n",
              "         [151, 193, 216],\n",
              "         [152, 194, 217],\n",
              "         ...,\n",
              "         [116, 166, 199],\n",
              "         [116, 166, 199],\n",
              "         [117, 167, 200]],\n",
              " \n",
              "        [[145, 188, 211],\n",
              "         [146, 188, 211],\n",
              "         [147, 189, 212],\n",
              "         ...,\n",
              "         [110, 161, 194],\n",
              "         [110, 161, 194],\n",
              "         [111, 161, 194]],\n",
              " \n",
              "        [[146, 189, 211],\n",
              "         [147, 189, 212],\n",
              "         [147, 190, 212],\n",
              "         ...,\n",
              "         [113, 163, 196],\n",
              "         [114, 164, 197],\n",
              "         [114, 164, 197]]], dtype=uint8)\n",
              " orig_shape: (413, 379)\n",
              " path: '/content/Screenshot (139).png'\n",
              " probs: None\n",
              " save_dir: None\n",
              " speed: {'preprocess': 15.737056732177734, 'inference': 425.2734184265137, 'postprocess': 1.424551010131836}]"
            ]
          },
          "metadata": {},
          "execution_count": 61
        }
      ]
    },
    {
      "cell_type": "code",
      "source": [
        "for r in results:\n",
        "  print(r.boxes.xyxy)\n",
        "  #checking format"
      ],
      "metadata": {
        "colab": {
          "base_uri": "https://localhost:8080/"
        },
        "id": "GtHXlpR9g-tT",
        "outputId": "385937fc-3700-47b5-adeb-9851f552a8c2"
      },
      "execution_count": 62,
      "outputs": [
        {
          "output_type": "stream",
          "name": "stdout",
          "text": [
            "tensor([[ 87.6174, 276.0722, 139.8553, 376.9735],\n",
            "        [ 82.0982, 371.3623, 138.6692, 383.3801],\n",
            "        [119.9627,  73.1028, 287.6582, 381.3176],\n",
            "        [ 54.7913,  42.2686, 218.0958, 382.3897],\n",
            "        [119.7524,  69.5035, 232.2174, 383.2898]])\n"
          ]
        }
      ]
    },
    {
      "cell_type": "code",
      "source": [
        "for r in results:\n",
        "    im_array = r.plot()  # plotting a BGR numpy array of predictions\n",
        "    im = Image.fromarray(im_array[..., ::-1])  # RGB PIL image\n",
        "    im.show()  # showing image\n",
        "    im.save('results4.jpg')"
      ],
      "metadata": {
        "id": "7sw6DxakHzAM"
      },
      "execution_count": 63,
      "outputs": []
    },
    {
      "cell_type": "code",
      "source": [
        "best_box = None\n",
        "best_score = 0\n",
        "\n",
        "# Class ID for 'book'\n",
        "book_class_id = 73\n",
        "for r in results:\n",
        "  bounding_boxes = r.boxes.xyxy\n",
        "  confidences = r.boxes.conf\n",
        "  class_ids = r.boxes.cls\n",
        "\n",
        "# Iterating through the detected objects\n",
        "for i, box in enumerate(bounding_boxes):\n",
        "    x1, y1, x2, y2 = box\n",
        "    print(box)\n",
        "    confidence = confidences[i]\n",
        "    class_id = class_ids[i]\n",
        "\n",
        "    if int(class_id) == book_class_id and confidence > best_score:\n",
        "        best_box = (x1, y1, x2, y2)\n",
        "        best_score = confidence\n",
        "\n",
        "#now that we've detected the best box, we use it as a representative box for all books in the image\n",
        "x1, y1, x2, y2 = best_box\n",
        "print(best_box)\n",
        "x1, y1, x2, y2 = float(best_box[0]), float(best_box[1]), float(best_box[2]), float(best_box[3])\n",
        "angle = np.arctan2(y2 - y1, x2 - x1) * 180 / np.pi\n",
        "#setting a threshold value of angle above which 90 is given as output\n",
        "#this was decided via trial and error\n",
        "\n",
        "if angle>75:\n",
        "  inclined_angle=90\n",
        "else:\n",
        "  inclined_angle=angle\n",
        "\n",
        "\n",
        "\n",
        "print(f\"Inclination Angle: {inclined_angle} degrees\")\n",
        "\n"
      ],
      "metadata": {
        "colab": {
          "base_uri": "https://localhost:8080/"
        },
        "id": "CkqzPhzbfKMl",
        "outputId": "32fa09c7-242e-4e45-d140-6e8c0058b156"
      },
      "execution_count": 65,
      "outputs": [
        {
          "output_type": "stream",
          "name": "stdout",
          "text": [
            "tensor([ 87.6174, 276.0722, 139.8553, 376.9735])\n",
            "tensor([ 82.0982, 371.3623, 138.6692, 383.3801])\n",
            "tensor([119.9627,  73.1028, 287.6582, 381.3176])\n",
            "tensor([ 54.7913,  42.2686, 218.0958, 382.3897])\n",
            "tensor([119.7524,  69.5035, 232.2174, 383.2898])\n",
            "(tensor(119.9627), tensor(73.1028), tensor(287.6582), tensor(381.3176))\n",
            "Inclination Angle: 61.44997829370224 degrees\n"
          ]
        }
      ]
    },
    {
      "cell_type": "code",
      "source": [],
      "metadata": {
        "id": "u7yrs8oEi13L"
      },
      "execution_count": null,
      "outputs": []
    }
  ]
}